{
 "cells": [
  {
   "cell_type": "code",
   "execution_count": 2,
   "metadata": {},
   "outputs": [
    {
     "ename": "ModuleNotFoundError",
     "evalue": "No module named 'drought'",
     "output_type": "error",
     "traceback": [
      "\u001b[0;31m---------------------------------------------------------------------------\u001b[0m",
      "\u001b[0;31mModuleNotFoundError\u001b[0m                       Traceback (most recent call last)",
      "\u001b[1;32m/home/og309/drought-with-gedi/notebooks/exploratory/SeasonalCovariance.ipynb Cell 1\u001b[0m in \u001b[0;36m<cell line: 2>\u001b[0;34m()\u001b[0m\n\u001b[1;32m      <a href='vscode-notebook-cell://ssh-remote%2Bsherwood/home/og309/drought-with-gedi/notebooks/exploratory/SeasonalCovariance.ipynb#W0sdnNjb2RlLXJlbW90ZQ%3D%3D?line=0'>1</a>\u001b[0m \u001b[39mimport\u001b[39;00m \u001b[39mee\u001b[39;00m\n\u001b[0;32m----> <a href='vscode-notebook-cell://ssh-remote%2Bsherwood/home/og309/drought-with-gedi/notebooks/exploratory/SeasonalCovariance.ipynb#W0sdnNjb2RlLXJlbW90ZQ%3D%3D?line=1'>2</a>\u001b[0m \u001b[39mfrom\u001b[39;00m \u001b[39mdrought\u001b[39;00m\u001b[39m.\u001b[39;00m\u001b[39mdata\u001b[39;00m \u001b[39mimport\u001b[39;00m pipeline\n\u001b[1;32m      <a href='vscode-notebook-cell://ssh-remote%2Bsherwood/home/og309/drought-with-gedi/notebooks/exploratory/SeasonalCovariance.ipynb#W0sdnNjb2RlLXJlbW90ZQ%3D%3D?line=2'>3</a>\u001b[0m \u001b[39mfrom\u001b[39;00m \u001b[39mdrought\u001b[39;00m\u001b[39m.\u001b[39;00m\u001b[39mvisualization\u001b[39;00m \u001b[39mimport\u001b[39;00m plot\n\u001b[1;32m      <a href='vscode-notebook-cell://ssh-remote%2Bsherwood/home/og309/drought-with-gedi/notebooks/exploratory/SeasonalCovariance.ipynb#W0sdnNjb2RlLXJlbW90ZQ%3D%3D?line=3'>4</a>\u001b[0m \u001b[39mimport\u001b[39;00m \u001b[39mgeemap\u001b[39;00m\n",
      "\u001b[0;31mModuleNotFoundError\u001b[0m: No module named 'drought'"
     ]
    }
   ],
   "source": [
    "import ee\n",
    "from drought.data import pipeline\n",
    "from drought.visualization import plot\n",
    "import geemap\n",
    "import matplotlib.pyplot as plt\n",
    "import pandas as pd"
   ]
  },
  {
   "cell_type": "code",
   "execution_count": 8,
   "metadata": {},
   "outputs": [],
   "source": [
    "monthly_data = pipeline.get_monthly_means_per_polygon()"
   ]
  },
  {
   "cell_type": "code",
   "execution_count": 9,
   "metadata": {},
   "outputs": [
    {
     "data": {
      "text/html": [
       "<div>\n",
       "<style scoped>\n",
       "    .dataframe tbody tr th:only-of-type {\n",
       "        vertical-align: middle;\n",
       "    }\n",
       "\n",
       "    .dataframe tbody tr th {\n",
       "        vertical-align: top;\n",
       "    }\n",
       "\n",
       "    .dataframe thead th {\n",
       "        text-align: right;\n",
       "    }\n",
       "</style>\n",
       "<table border=\"1\" class=\"dataframe\">\n",
       "  <thead>\n",
       "    <tr style=\"text-align: right;\">\n",
       "      <th></th>\n",
       "      <th>month</th>\n",
       "      <th>year</th>\n",
       "      <th>polygon_id</th>\n",
       "      <th>pai</th>\n",
       "      <th>precipitation</th>\n",
       "      <th>temperature</th>\n",
       "      <th>radiation</th>\n",
       "    </tr>\n",
       "  </thead>\n",
       "  <tbody>\n",
       "    <tr>\n",
       "      <th>0</th>\n",
       "      <td>1</td>\n",
       "      <td>2020</td>\n",
       "      <td>1</td>\n",
       "      <td>3.676017</td>\n",
       "      <td>111.927796</td>\n",
       "      <td>30.139926</td>\n",
       "      <td>1.533163e+07</td>\n",
       "    </tr>\n",
       "    <tr>\n",
       "      <th>1</th>\n",
       "      <td>1</td>\n",
       "      <td>2020</td>\n",
       "      <td>2</td>\n",
       "      <td>3.368554</td>\n",
       "      <td>196.966859</td>\n",
       "      <td>28.646051</td>\n",
       "      <td>1.516526e+07</td>\n",
       "    </tr>\n",
       "    <tr>\n",
       "      <th>2</th>\n",
       "      <td>1</td>\n",
       "      <td>2020</td>\n",
       "      <td>3</td>\n",
       "      <td>2.606483</td>\n",
       "      <td>158.619501</td>\n",
       "      <td>29.270302</td>\n",
       "      <td>1.568071e+07</td>\n",
       "    </tr>\n",
       "    <tr>\n",
       "      <th>3</th>\n",
       "      <td>1</td>\n",
       "      <td>2020</td>\n",
       "      <td>4</td>\n",
       "      <td>3.794207</td>\n",
       "      <td>125.071252</td>\n",
       "      <td>27.873457</td>\n",
       "      <td>1.435729e+07</td>\n",
       "    </tr>\n",
       "    <tr>\n",
       "      <th>4</th>\n",
       "      <td>1</td>\n",
       "      <td>2020</td>\n",
       "      <td>5</td>\n",
       "      <td>3.301465</td>\n",
       "      <td>292.113777</td>\n",
       "      <td>27.333688</td>\n",
       "      <td>1.424309e+07</td>\n",
       "    </tr>\n",
       "    <tr>\n",
       "      <th>...</th>\n",
       "      <td>...</td>\n",
       "      <td>...</td>\n",
       "      <td>...</td>\n",
       "      <td>...</td>\n",
       "      <td>...</td>\n",
       "      <td>...</td>\n",
       "      <td>...</td>\n",
       "    </tr>\n",
       "    <tr>\n",
       "      <th>294</th>\n",
       "      <td>12</td>\n",
       "      <td>2021</td>\n",
       "      <td>4</td>\n",
       "      <td>3.087010</td>\n",
       "      <td>329.821745</td>\n",
       "      <td>27.801845</td>\n",
       "      <td>1.333075e+07</td>\n",
       "    </tr>\n",
       "    <tr>\n",
       "      <th>295</th>\n",
       "      <td>12</td>\n",
       "      <td>2021</td>\n",
       "      <td>5</td>\n",
       "      <td>2.885736</td>\n",
       "      <td>337.831219</td>\n",
       "      <td>27.371466</td>\n",
       "      <td>1.159784e+07</td>\n",
       "    </tr>\n",
       "    <tr>\n",
       "      <th>296</th>\n",
       "      <td>12</td>\n",
       "      <td>2021</td>\n",
       "      <td>6</td>\n",
       "      <td>0.806422</td>\n",
       "      <td>466.951728</td>\n",
       "      <td>29.931494</td>\n",
       "      <td>1.140797e+07</td>\n",
       "    </tr>\n",
       "    <tr>\n",
       "      <th>297</th>\n",
       "      <td>12</td>\n",
       "      <td>2021</td>\n",
       "      <td>7</td>\n",
       "      <td>0.585766</td>\n",
       "      <td>299.846644</td>\n",
       "      <td>30.686953</td>\n",
       "      <td>1.371934e+07</td>\n",
       "    </tr>\n",
       "    <tr>\n",
       "      <th>298</th>\n",
       "      <td>12</td>\n",
       "      <td>2021</td>\n",
       "      <td>8</td>\n",
       "      <td>1.046972</td>\n",
       "      <td>391.210408</td>\n",
       "      <td>28.630775</td>\n",
       "      <td>1.292005e+07</td>\n",
       "    </tr>\n",
       "  </tbody>\n",
       "</table>\n",
       "<p>299 rows × 7 columns</p>\n",
       "</div>"
      ],
      "text/plain": [
       "     month  year  polygon_id       pai  precipitation  temperature  \\\n",
       "0        1  2020           1  3.676017     111.927796    30.139926   \n",
       "1        1  2020           2  3.368554     196.966859    28.646051   \n",
       "2        1  2020           3  2.606483     158.619501    29.270302   \n",
       "3        1  2020           4  3.794207     125.071252    27.873457   \n",
       "4        1  2020           5  3.301465     292.113777    27.333688   \n",
       "..     ...   ...         ...       ...            ...          ...   \n",
       "294     12  2021           4  3.087010     329.821745    27.801845   \n",
       "295     12  2021           5  2.885736     337.831219    27.371466   \n",
       "296     12  2021           6  0.806422     466.951728    29.931494   \n",
       "297     12  2021           7  0.585766     299.846644    30.686953   \n",
       "298     12  2021           8  1.046972     391.210408    28.630775   \n",
       "\n",
       "        radiation  \n",
       "0    1.533163e+07  \n",
       "1    1.516526e+07  \n",
       "2    1.568071e+07  \n",
       "3    1.435729e+07  \n",
       "4    1.424309e+07  \n",
       "..            ...  \n",
       "294  1.333075e+07  \n",
       "295  1.159784e+07  \n",
       "296  1.140797e+07  \n",
       "297  1.371934e+07  \n",
       "298  1.292005e+07  \n",
       "\n",
       "[299 rows x 7 columns]"
      ]
     },
     "execution_count": 9,
     "metadata": {},
     "output_type": "execute_result"
    }
   ],
   "source": [
    "monthly_data"
   ]
  },
  {
   "cell_type": "code",
   "execution_count": 13,
   "metadata": {},
   "outputs": [],
   "source": [
    "monthly_data = monthly_data.sort_values(by=['year','month'])\n",
    "\n",
    "monthly_data['date'] = pd.to_datetime(monthly_data['year'].astype(str) + \n",
    "                                           monthly_data['month'].astype(str),\n",
    "                                        format = '%Y%m') \\\n",
    "                                          .dt.strftime('%m-%y')"
   ]
  },
  {
   "cell_type": "code",
   "execution_count": 17,
   "metadata": {},
   "outputs": [
    {
     "name": "stdout",
     "output_type": "stream",
     "text": [
      "5.374247020013369\n",
      "-5.049564727273027\n",
      "-3.2426694701931376\n",
      "-11.135336256194776\n",
      "-25.03518638377287\n",
      "10.192941531185065\n",
      "6.05782555290266\n",
      "2.605588193010434\n"
     ]
    }
   ],
   "source": [
    "for polygon in range (1,9):\n",
    "    print(monthly_data[monthly_data['polygon_id']==polygon]['precipitation'].cov(monthly_data[monthly_data['polygon_id']==polygon]['pai']))"
   ]
  },
  {
   "cell_type": "code",
   "execution_count": 1,
   "metadata": {},
   "outputs": [
    {
     "ename": "NameError",
     "evalue": "name 'monthly_data' is not defined",
     "output_type": "error",
     "traceback": [
      "\u001b[0;31m---------------------------------------------------------------------------\u001b[0m",
      "\u001b[0;31mNameError\u001b[0m                                 Traceback (most recent call last)",
      "\u001b[1;32m/home/og309/drought-with-gedi/notebooks/exploratory/SeasonalCovariance.ipynb Cell 6\u001b[0m in \u001b[0;36m<cell line: 1>\u001b[0;34m()\u001b[0m\n\u001b[0;32m----> <a href='vscode-notebook-cell://ssh-remote%2Bsherwood/home/og309/drought-with-gedi/notebooks/exploratory/SeasonalCovariance.ipynb#W5sdnNjb2RlLXJlbW90ZQ%3D%3D?line=0'>1</a>\u001b[0m monthly_data\u001b[39m.\u001b[39mcov()\n",
      "\u001b[0;31mNameError\u001b[0m: name 'monthly_data' is not defined"
     ]
    }
   ],
   "source": [
    "monthly_data.cov()"
   ]
  },
  {
   "cell_type": "code",
   "execution_count": null,
   "metadata": {},
   "outputs": [],
   "source": []
  }
 ],
 "metadata": {
  "kernelspec": {
   "display_name": "Python 3",
   "language": "python",
   "name": "python3"
  },
  "language_info": {
   "codemirror_mode": {
    "name": "ipython",
    "version": 3
   },
   "file_extension": ".py",
   "mimetype": "text/x-python",
   "name": "python",
   "nbconvert_exporter": "python",
   "pygments_lexer": "ipython3",
   "version": "3.10.6"
  },
  "orig_nbformat": 4,
  "vscode": {
   "interpreter": {
    "hash": "31f2aee4e71d21fbe5cf8b01ff0e069b9275f58929596ceb00d14d90e3e16cd6"
   }
  }
 },
 "nbformat": 4,
 "nbformat_minor": 2
}
