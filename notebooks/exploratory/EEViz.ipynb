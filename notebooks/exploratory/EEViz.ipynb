{
 "cells": [
  {
   "cell_type": "code",
   "execution_count": null,
   "metadata": {},
   "outputs": [],
   "source": [
    "from drought.visualization import ee_viz\n",
    "import ee"
   ]
  },
  {
   "cell_type": "code",
   "execution_count": null,
   "metadata": {},
   "outputs": [],
   "source": [
    "ee.Initialize()"
   ]
  },
  {
   "cell_type": "code",
   "execution_count": null,
   "metadata": {},
   "outputs": [],
   "source": [
    "# ET and PET data for the first 6 months of 2019.\n",
    "start_date = ee.Date('2019-01-01')\n",
    "end_date = ee.Date('2019-01-06')\\\n",
    "\n",
    "ic = ee.ImageCollection('MODIS/006/MOD16A2') \\\n",
    "    .select(['ET', 'PET']) \\\n",
    "    .filterDate(start_date, end_date)\n"
   ]
  },
  {
   "cell_type": "code",
   "execution_count": null,
   "metadata": {},
   "outputs": [],
   "source": [
    "# Visualize ET and PET for a single polygon.\n",
    "ee_viz.viz_single_polygon(ic.first(), polygon_index=7, bands=[\"ET\", \"PET\"], band_names=['Evapotranspiration','Potential Evepotranspiration'])"
   ]
  },
  {
   "cell_type": "code",
   "execution_count": null,
   "metadata": {},
   "outputs": [],
   "source": [
    "ee_viz.viz_all_polygons(ic.mean(), bands=[\"ET\", \"PET\"], band_names=['Evapotranspiration','Potential Evepotranspiration'])"
   ]
  },
  {
   "cell_type": "code",
   "execution_count": null,
   "metadata": {},
   "outputs": [],
   "source": []
  }
 ],
 "metadata": {
  "kernelspec": {
   "display_name": "gtc",
   "language": "python",
   "name": "python3"
  },
  "language_info": {
   "codemirror_mode": {
    "name": "ipython",
    "version": 3
   },
   "file_extension": ".py",
   "mimetype": "text/x-python",
   "name": "python",
   "nbconvert_exporter": "python",
   "pygments_lexer": "ipython3",
   "version": "3.10.9"
  },
  "orig_nbformat": 4,
  "vscode": {
   "interpreter": {
    "hash": "aa5ef71d1e5020088dcc8b21c9819e88ea72186a6e3a6ba1584c5c4ae584e860"
   }
  }
 },
 "nbformat": 4,
 "nbformat_minor": 2
}
