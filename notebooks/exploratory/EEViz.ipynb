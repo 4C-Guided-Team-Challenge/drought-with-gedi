{
 "cells": [
  {
   "cell_type": "code",
   "execution_count": 1,
   "metadata": {},
   "outputs": [],
   "source": [
    "from drought.visualization import ee_viz\n",
    "import ee"
   ]
  },
  {
   "cell_type": "code",
   "execution_count": 2,
   "metadata": {},
   "outputs": [],
   "source": [
    "ee.Initialize()"
   ]
  },
  {
   "cell_type": "code",
   "execution_count": 3,
   "metadata": {},
   "outputs": [],
   "source": [
    "# ET and PET data for the first 6 months of 2019.\n",
    "start_date = ee.Date('2019-01-01')\n",
    "end_date = ee.Date('2019-01-06')\\\n",
    "\n",
    "ic = ee.ImageCollection('MODIS/006/MOD16A2') \\\n",
    "    .select(['ET', 'PET']) \\\n",
    "    .filterDate(start_date, end_date)\n"
   ]
  },
  {
   "cell_type": "code",
   "execution_count": 4,
   "metadata": {},
   "outputs": [
    {
     "data": {
      "application/vnd.jupyter.widget-view+json": {
       "model_id": "f4b081a777e4448299b0b422e32cebb5",
       "version_major": 2,
       "version_minor": 0
      },
      "text/plain": [
       "Map(center=[-16.482077426075158, -41.27180992107002], controls=(WidgetControl(options=['position', 'transparen…"
      ]
     },
     "metadata": {},
     "output_type": "display_data"
    }
   ],
   "source": [
    "# Visualize ET and PET for a single polygon.\n",
    "ee_viz.viz_single_polygon(ic.first(), polygon_index=7, bands=[\"ET\", \"PET\"])"
   ]
  },
  {
   "cell_type": "code",
   "execution_count": 5,
   "metadata": {},
   "outputs": [
    {
     "data": {
      "application/vnd.jupyter.widget-view+json": {
       "model_id": "df49fb74885d4b35872f4c2e0691b90c",
       "version_major": 2,
       "version_minor": 0
      },
      "text/plain": [
       "Map(center=[-5.3665973237290725, -54.75046903762467], controls=(WidgetControl(options=['position', 'transparen…"
      ]
     },
     "metadata": {},
     "output_type": "display_data"
    }
   ],
   "source": [
    "ee_viz.viz_all_polygons(ic.mean(), bands=[\"ET\", \"PET\"])"
   ]
  },
  {
   "cell_type": "code",
   "execution_count": null,
   "metadata": {},
   "outputs": [],
   "source": []
  }
 ],
 "metadata": {
  "kernelspec": {
   "display_name": "Python 3.10.9 ('drought')",
   "language": "python",
   "name": "python3"
  },
  "language_info": {
   "codemirror_mode": {
    "name": "ipython",
    "version": 3
   },
   "file_extension": ".py",
   "mimetype": "text/x-python",
   "name": "python",
   "nbconvert_exporter": "python",
   "pygments_lexer": "ipython3",
   "version": "3.10.9"
  },
  "orig_nbformat": 4,
  "vscode": {
   "interpreter": {
    "hash": "b2d5b79e1bfb3a0ec18efa1620372524b3b74933e904aeed492c7cbc8b4639b0"
   }
  }
 },
 "nbformat": 4,
 "nbformat_minor": 2
}
