{
 "cells": [
  {
   "cell_type": "code",
   "execution_count": null,
   "metadata": {},
   "outputs": [],
   "source": [
    "import ee\n",
    "from drought.data import ee_climate, pipeline\n",
    "from drought.visualization import plot\n",
    "import geemap\n",
    "import matplotlib.pyplot as plt\n",
    "import pandas as pd\n",
    "import importlib"
   ]
  },
  {
   "cell_type": "markdown",
   "metadata": {},
   "source": [
    "## Prerequisites\n",
    "\n",
    "Before running the notebook, make sure to authenticate with Google Earth \n",
    "Engine. \n",
    "\n",
    "You can do so by running ```earthengine authenticate``` on the command line\n",
    "or uncommenting the authentication cell below. See [here](https://developers.google.com/earth-engine/guides/python_install#authentication) for more details."
   ]
  },
  {
   "cell_type": "markdown",
   "metadata": {},
   "source": [
    "### Earth Engine Initialization"
   ]
  },
  {
   "cell_type": "code",
   "execution_count": null,
   "metadata": {},
   "outputs": [],
   "source": [
    "# Uncomment if you want to authenticate within jupyter notebook.\n",
    "ee.Authenticate()"
   ]
  },
  {
   "cell_type": "code",
   "execution_count": null,
   "metadata": {},
   "outputs": [],
   "source": [
    "ee.Initialize()"
   ]
  },
  {
   "cell_type": "markdown",
   "metadata": {},
   "source": [
    "## Get Climate Data"
   ]
  },
  {
   "cell_type": "code",
   "execution_count": null,
   "metadata": {},
   "outputs": [],
   "source": [
    "# Dates of interest.\n",
    "start_date = ee.Date('2019-01-01')\n",
    "end_date = ee.Date('2023-01-01')\n",
    "\n",
    "# Get regions of interest.\n",
    "ee_geoms = pipeline.get_ee_polygons()\n",
    "\n",
    "# Specify resolution.\n",
    "scale = 5000\n",
    "\n",
    "# Fetch climate data from Earth Engine as Pandas DataFrame.\n",
    "climate_monthly_pdf = ee_climate.get_monthly_climate_data_as_pdf(\n",
    "        start_date, end_date, ee_geoms, scale)"
   ]
  },
  {
   "cell_type": "markdown",
   "metadata": {},
   "source": [
    "### Plot total monthly averages"
   ]
  },
  {
   "cell_type": "code",
   "execution_count": null,
   "metadata": {},
   "outputs": [],
   "source": [
    "# Calculate monthly mean for all three years in aggregate.\n",
    "total_monthly_mean = climate_monthly_pdf.groupby(['month', 'polygon_id']) \\\n",
    "                                .mean(numeric_only=True).reset_index() \\\n",
    "                                .drop(columns=['year'])"
   ]
  },
  {
   "cell_type": "code",
   "execution_count": null,
   "metadata": {},
   "outputs": [],
   "source": [
    "# Palette for plotting. Colors can be accessed by indexing - plot.palette[i]\n",
    "plot.palette"
   ]
  },
  {
   "cell_type": "code",
   "execution_count": null,
   "metadata": {},
   "outputs": [],
   "source": [
    "# Plot aggregate monthly precipitation per region.\n",
    "fig = plot.barplot_per_polygon(total_monthly_mean,\n",
    "                              x='month', \n",
    "                              y='precipitation', \n",
    "                              ylabel=\"Precipitation mm / month\",\n",
    "                              title=\"Aggregate monthly precipitation per region 2019-2022\",\n",
    "                              color=plot.palette[5])\n",
    "# Mark the 100mm precipitation line that signifies a dry month.\n",
    "[subplot.axhline(y=100, color = 'r', linestyle = 'dotted', linewidth=3) \n",
    " for subplot in fig.get_axes()]\n",
    "plt.show()"
   ]
  },
  {
   "cell_type": "code",
   "execution_count": null,
   "metadata": {},
   "outputs": [],
   "source": [
    "# Plot aggregate monthly radiation per region.\n",
    "fig = plot.barplot_per_polygon(total_monthly_mean,\n",
    "                              x='month', \n",
    "                              y='radiation', \n",
    "                              ylabel=\"Radiation\",\n",
    "                              title=\"Mean monthly radiation per region 2019-2022\",\n",
    "                              color=plot.palette[0],\n",
    "                              sharey=True)\n",
    "plt.show()"
   ]
  },
  {
   "cell_type": "code",
   "execution_count": null,
   "metadata": {},
   "outputs": [],
   "source": [
    "# Plot aggregate monthly temperature per region.\n",
    "fig = plot.barplot_per_polygon(total_monthly_mean,\n",
    "                              x='month', \n",
    "                              y='temperature', \n",
    "                              ylabel=\"Temperature\",\n",
    "                              title=\"Mean monthly temperature per region 2019-2022\",\n",
    "                              color=plot.palette[7],\n",
    "                              sharey=True)\n",
    "plt.show()"
   ]
  },
  {
   "cell_type": "code",
   "execution_count": null,
   "metadata": {},
   "outputs": [],
   "source": [
    "# Plot aggregate monthly fpar per region.\n",
    "fig = plot.barplot_per_polygon(total_monthly_mean,\n",
    "                              x='month', \n",
    "                              y='fpar', \n",
    "                              ylabel=\"Fpar\",\n",
    "                              title=\"Mean monthly Fpar per region 2019-2022\",\n",
    "                              color=plot.palette[3],\n",
    "                              sharey=True)\n",
    "plt.show()"
   ]
  }
 ],
 "metadata": {
  "kernelspec": {
   "display_name": "gtc",
   "language": "python",
   "name": "python3"
  },
  "language_info": {
   "codemirror_mode": {
    "name": "ipython",
    "version": 3
   },
   "file_extension": ".py",
   "mimetype": "text/x-python",
   "name": "python",
   "nbconvert_exporter": "python",
   "pygments_lexer": "ipython3",
   "version": "3.10.9"
  },
  "vscode": {
   "interpreter": {
    "hash": "fa4dd7bc1bd8624a15732c4373f74b8079497058e5fc71160b58a46783207399"
   }
  }
 },
 "nbformat": 4,
 "nbformat_minor": 2
}