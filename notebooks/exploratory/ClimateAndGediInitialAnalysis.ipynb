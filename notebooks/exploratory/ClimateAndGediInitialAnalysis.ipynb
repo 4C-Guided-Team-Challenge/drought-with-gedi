{
 "cells": [
  {
   "cell_type": "code",
   "execution_count": 2,
   "metadata": {},
   "outputs": [],
   "source": [
    "import ee\n",
    "from drought.data import ee_climate, ee_utils, geo\n",
    "from drought.visualization import plot\n",
    "import geemap\n",
    "import matplotlib.pyplot as plt\n",
    "import pandas as pd"
   ]
  },
  {
   "cell_type": "markdown",
   "metadata": {},
   "source": [
    "### Load Climate and GEDI data from CSV"
   ]
  },
  {
   "cell_type": "code",
   "execution_count": 14,
   "metadata": {},
   "outputs": [],
   "source": [
    "climate_monthly = pd.read_csv(\"../../data/interim/climate_r_p_t_monthly_mean_per_polygon_1-2019_to_12-2022.csv\", index_col=0)\n",
    "gedi_monthly = pd.read_csv(\"../../data/interim/gedi_PAI_monthly_mean_per_polygon_4-2019_to_6-2022.csv\", index_col=0)"
   ]
  },
  {
   "cell_type": "markdown",
   "metadata": {},
   "source": [
    "### Plot total monthly values"
   ]
  },
  {
   "cell_type": "code",
   "execution_count": 15,
   "metadata": {},
   "outputs": [],
   "source": [
    "climate_total_monthly_mean = climate_monthly.groupby(['month', 'polygon_id']) \\\n",
    "                                            .mean(numeric_only=True) \\\n",
    "                                            .reset_index() \\\n",
    "                                            .drop(columns=['year'])"
   ]
  },
  {
   "cell_type": "code",
   "execution_count": 16,
   "metadata": {},
   "outputs": [],
   "source": [
    "pai_total_monthly_mean = gedi_monthly.groupby(['month', 'polygon_id']) \\\n",
    "                                            .mean(numeric_only=True) \\\n",
    "                                            .reset_index() \\\n",
    "                                            .drop(columns=['year'])"
   ]
  },
  {
   "cell_type": "markdown",
   "metadata": {},
   "source": [
    "ee.Initialize()"
   ]
  }
 ],
 "metadata": {
  "kernelspec": {
   "display_name": "Python 3.10.9 ('drought')",
   "language": "python",
   "name": "python3"
  },
  "language_info": {
   "codemirror_mode": {
    "name": "ipython",
    "version": 3
   },
   "file_extension": ".py",
   "mimetype": "text/x-python",
   "name": "python",
   "nbconvert_exporter": "python",
   "pygments_lexer": "ipython3",
   "version": "3.10.9"
  },
  "orig_nbformat": 4,
  "vscode": {
   "interpreter": {
    "hash": "b2d5b79e1bfb3a0ec18efa1620372524b3b74933e904aeed492c7cbc8b4639b0"
   }
  }
 },
 "nbformat": 4,
 "nbformat_minor": 2
}
