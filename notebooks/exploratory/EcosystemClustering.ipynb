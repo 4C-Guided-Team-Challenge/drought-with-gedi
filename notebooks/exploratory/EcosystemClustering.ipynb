{
 "cells": [
  {
   "cell_type": "code",
   "execution_count": 3,
   "metadata": {},
   "outputs": [],
   "source": [
    "from drought.data.pipeline import *\n",
    "from sklearn.cluster import KMeans"
   ]
  },
  {
   "attachments": {},
   "cell_type": "markdown",
   "metadata": {},
   "source": [
    "The goal here is to build an unsupervised clustering model which can cluster geographic regions based on climatic variables. "
   ]
  },
  {
   "cell_type": "code",
   "execution_count": 8,
   "metadata": {},
   "outputs": [],
   "source": [
    "shape = get_gpd_polygons()"
   ]
  },
  {
   "cell_type": "code",
   "execution_count": 9,
   "metadata": {},
   "outputs": [
    {
     "data": {
      "text/html": [
       "<div>\n",
       "<style scoped>\n",
       "    .dataframe tbody tr th:only-of-type {\n",
       "        vertical-align: middle;\n",
       "    }\n",
       "\n",
       "    .dataframe tbody tr th {\n",
       "        vertical-align: top;\n",
       "    }\n",
       "\n",
       "    .dataframe thead th {\n",
       "        text-align: right;\n",
       "    }\n",
       "</style>\n",
       "<table border=\"1\" class=\"dataframe\">\n",
       "  <thead>\n",
       "    <tr style=\"text-align: right;\">\n",
       "      <th></th>\n",
       "      <th>month</th>\n",
       "      <th>year</th>\n",
       "      <th>pai</th>\n",
       "      <th>precipitation</th>\n",
       "      <th>temperature</th>\n",
       "      <th>radiation</th>\n",
       "    </tr>\n",
       "    <tr>\n",
       "      <th>polygon_id</th>\n",
       "      <th></th>\n",
       "      <th></th>\n",
       "      <th></th>\n",
       "      <th></th>\n",
       "      <th></th>\n",
       "      <th></th>\n",
       "    </tr>\n",
       "  </thead>\n",
       "  <tbody>\n",
       "    <tr>\n",
       "      <th>1</th>\n",
       "      <td>6.342857</td>\n",
       "      <td>2020.314286</td>\n",
       "      <td>3.555716</td>\n",
       "      <td>293.765893</td>\n",
       "      <td>28.775501</td>\n",
       "      <td>1.395512e+07</td>\n",
       "    </tr>\n",
       "    <tr>\n",
       "      <th>2</th>\n",
       "      <td>6.394737</td>\n",
       "      <td>2020.342105</td>\n",
       "      <td>3.313128</td>\n",
       "      <td>263.506760</td>\n",
       "      <td>28.734562</td>\n",
       "      <td>1.420633e+07</td>\n",
       "    </tr>\n",
       "    <tr>\n",
       "      <th>3</th>\n",
       "      <td>6.096774</td>\n",
       "      <td>2020.354839</td>\n",
       "      <td>3.266357</td>\n",
       "      <td>251.702826</td>\n",
       "      <td>28.469306</td>\n",
       "      <td>1.392554e+07</td>\n",
       "    </tr>\n",
       "    <tr>\n",
       "      <th>4</th>\n",
       "      <td>6.384615</td>\n",
       "      <td>2020.384615</td>\n",
       "      <td>3.504819</td>\n",
       "      <td>235.860376</td>\n",
       "      <td>27.832612</td>\n",
       "      <td>1.484121e+07</td>\n",
       "    </tr>\n",
       "    <tr>\n",
       "      <th>5</th>\n",
       "      <td>6.384615</td>\n",
       "      <td>2020.384615</td>\n",
       "      <td>3.001037</td>\n",
       "      <td>172.098428</td>\n",
       "      <td>28.273038</td>\n",
       "      <td>1.589685e+07</td>\n",
       "    </tr>\n",
       "    <tr>\n",
       "      <th>6</th>\n",
       "      <td>6.384615</td>\n",
       "      <td>2020.384615</td>\n",
       "      <td>0.779162</td>\n",
       "      <td>116.032661</td>\n",
       "      <td>32.536969</td>\n",
       "      <td>1.703984e+07</td>\n",
       "    </tr>\n",
       "    <tr>\n",
       "      <th>7</th>\n",
       "      <td>6.384615</td>\n",
       "      <td>2020.384615</td>\n",
       "      <td>0.463933</td>\n",
       "      <td>68.682771</td>\n",
       "      <td>33.269556</td>\n",
       "      <td>1.771369e+07</td>\n",
       "    </tr>\n",
       "    <tr>\n",
       "      <th>8</th>\n",
       "      <td>6.384615</td>\n",
       "      <td>2020.384615</td>\n",
       "      <td>0.986440</td>\n",
       "      <td>64.882448</td>\n",
       "      <td>29.343542</td>\n",
       "      <td>1.502093e+07</td>\n",
       "    </tr>\n",
       "  </tbody>\n",
       "</table>\n",
       "</div>"
      ],
      "text/plain": [
       "               month         year       pai  precipitation  temperature  \\\n",
       "polygon_id                                                                \n",
       "1           6.342857  2020.314286  3.555716     293.765893    28.775501   \n",
       "2           6.394737  2020.342105  3.313128     263.506760    28.734562   \n",
       "3           6.096774  2020.354839  3.266357     251.702826    28.469306   \n",
       "4           6.384615  2020.384615  3.504819     235.860376    27.832612   \n",
       "5           6.384615  2020.384615  3.001037     172.098428    28.273038   \n",
       "6           6.384615  2020.384615  0.779162     116.032661    32.536969   \n",
       "7           6.384615  2020.384615  0.463933      68.682771    33.269556   \n",
       "8           6.384615  2020.384615  0.986440      64.882448    29.343542   \n",
       "\n",
       "               radiation  \n",
       "polygon_id                \n",
       "1           1.395512e+07  \n",
       "2           1.420633e+07  \n",
       "3           1.392554e+07  \n",
       "4           1.484121e+07  \n",
       "5           1.589685e+07  \n",
       "6           1.703984e+07  \n",
       "7           1.771369e+07  \n",
       "8           1.502093e+07  "
      ]
     },
     "execution_count": 9,
     "metadata": {},
     "output_type": "execute_result"
    }
   ],
   "source": [
    "monthly = get_monthly_means_per_polygon()\n",
    "cluster_input = monthly.groupby([\"polygon_id\"]).mean()\n",
    "cluster_input"
   ]
  },
  {
   "cell_type": "code",
   "execution_count": 18,
   "metadata": {},
   "outputs": [],
   "source": [
    "def ecosystem_clustering(df, feature_cols):\n",
    "    km = KMeans(n_clusters=4)\n",
    "    km.fit(df[feature_cols])\n",
    "    output = df.assign(cluster=km.predict(df[feature_cols]))\n",
    "\n",
    "    return output"
   ]
  },
  {
   "cell_type": "code",
   "execution_count": 19,
   "metadata": {},
   "outputs": [
    {
     "name": "stderr",
     "output_type": "stream",
     "text": [
      "/home/og309/.local/lib/python3.10/site-packages/sklearn/cluster/_kmeans.py:870: FutureWarning: The default value of `n_init` will change from 10 to 'auto' in 1.4. Set the value of `n_init` explicitly to suppress the warning\n",
      "  warnings.warn(\n"
     ]
    },
    {
     "data": {
      "text/html": [
       "<div>\n",
       "<style scoped>\n",
       "    .dataframe tbody tr th:only-of-type {\n",
       "        vertical-align: middle;\n",
       "    }\n",
       "\n",
       "    .dataframe tbody tr th {\n",
       "        vertical-align: top;\n",
       "    }\n",
       "\n",
       "    .dataframe thead th {\n",
       "        text-align: right;\n",
       "    }\n",
       "</style>\n",
       "<table border=\"1\" class=\"dataframe\">\n",
       "  <thead>\n",
       "    <tr style=\"text-align: right;\">\n",
       "      <th></th>\n",
       "      <th>month</th>\n",
       "      <th>year</th>\n",
       "      <th>pai</th>\n",
       "      <th>precipitation</th>\n",
       "      <th>temperature</th>\n",
       "      <th>radiation</th>\n",
       "      <th>cluster</th>\n",
       "    </tr>\n",
       "    <tr>\n",
       "      <th>polygon_id</th>\n",
       "      <th></th>\n",
       "      <th></th>\n",
       "      <th></th>\n",
       "      <th></th>\n",
       "      <th></th>\n",
       "      <th></th>\n",
       "      <th></th>\n",
       "    </tr>\n",
       "  </thead>\n",
       "  <tbody>\n",
       "    <tr>\n",
       "      <th>1</th>\n",
       "      <td>6.342857</td>\n",
       "      <td>2020.314286</td>\n",
       "      <td>3.555716</td>\n",
       "      <td>293.765893</td>\n",
       "      <td>28.775501</td>\n",
       "      <td>1.395512e+07</td>\n",
       "      <td>0</td>\n",
       "    </tr>\n",
       "    <tr>\n",
       "      <th>2</th>\n",
       "      <td>6.394737</td>\n",
       "      <td>2020.342105</td>\n",
       "      <td>3.313128</td>\n",
       "      <td>263.506760</td>\n",
       "      <td>28.734562</td>\n",
       "      <td>1.420633e+07</td>\n",
       "      <td>0</td>\n",
       "    </tr>\n",
       "    <tr>\n",
       "      <th>3</th>\n",
       "      <td>6.096774</td>\n",
       "      <td>2020.354839</td>\n",
       "      <td>3.266357</td>\n",
       "      <td>251.702826</td>\n",
       "      <td>28.469306</td>\n",
       "      <td>1.392554e+07</td>\n",
       "      <td>0</td>\n",
       "    </tr>\n",
       "    <tr>\n",
       "      <th>4</th>\n",
       "      <td>6.384615</td>\n",
       "      <td>2020.384615</td>\n",
       "      <td>3.504819</td>\n",
       "      <td>235.860376</td>\n",
       "      <td>27.832612</td>\n",
       "      <td>1.484121e+07</td>\n",
       "      <td>2</td>\n",
       "    </tr>\n",
       "    <tr>\n",
       "      <th>5</th>\n",
       "      <td>6.384615</td>\n",
       "      <td>2020.384615</td>\n",
       "      <td>3.001037</td>\n",
       "      <td>172.098428</td>\n",
       "      <td>28.273038</td>\n",
       "      <td>1.589685e+07</td>\n",
       "      <td>3</td>\n",
       "    </tr>\n",
       "    <tr>\n",
       "      <th>6</th>\n",
       "      <td>6.384615</td>\n",
       "      <td>2020.384615</td>\n",
       "      <td>0.779162</td>\n",
       "      <td>116.032661</td>\n",
       "      <td>32.536969</td>\n",
       "      <td>1.703984e+07</td>\n",
       "      <td>1</td>\n",
       "    </tr>\n",
       "    <tr>\n",
       "      <th>7</th>\n",
       "      <td>6.384615</td>\n",
       "      <td>2020.384615</td>\n",
       "      <td>0.463933</td>\n",
       "      <td>68.682771</td>\n",
       "      <td>33.269556</td>\n",
       "      <td>1.771369e+07</td>\n",
       "      <td>1</td>\n",
       "    </tr>\n",
       "    <tr>\n",
       "      <th>8</th>\n",
       "      <td>6.384615</td>\n",
       "      <td>2020.384615</td>\n",
       "      <td>0.986440</td>\n",
       "      <td>64.882448</td>\n",
       "      <td>29.343542</td>\n",
       "      <td>1.502093e+07</td>\n",
       "      <td>2</td>\n",
       "    </tr>\n",
       "  </tbody>\n",
       "</table>\n",
       "</div>"
      ],
      "text/plain": [
       "               month         year       pai  precipitation  temperature  \\\n",
       "polygon_id                                                                \n",
       "1           6.342857  2020.314286  3.555716     293.765893    28.775501   \n",
       "2           6.394737  2020.342105  3.313128     263.506760    28.734562   \n",
       "3           6.096774  2020.354839  3.266357     251.702826    28.469306   \n",
       "4           6.384615  2020.384615  3.504819     235.860376    27.832612   \n",
       "5           6.384615  2020.384615  3.001037     172.098428    28.273038   \n",
       "6           6.384615  2020.384615  0.779162     116.032661    32.536969   \n",
       "7           6.384615  2020.384615  0.463933      68.682771    33.269556   \n",
       "8           6.384615  2020.384615  0.986440      64.882448    29.343542   \n",
       "\n",
       "               radiation  cluster  \n",
       "polygon_id                         \n",
       "1           1.395512e+07        0  \n",
       "2           1.420633e+07        0  \n",
       "3           1.392554e+07        0  \n",
       "4           1.484121e+07        2  \n",
       "5           1.589685e+07        3  \n",
       "6           1.703984e+07        1  \n",
       "7           1.771369e+07        1  \n",
       "8           1.502093e+07        2  "
      ]
     },
     "execution_count": 19,
     "metadata": {},
     "output_type": "execute_result"
    }
   ],
   "source": [
    "result = ecosystem_clustering(cluster_input, [\"temperature\", \"precipitation\", \"radiation\", \"pai\"])\n",
    "result"
   ]
  },
  {
   "cell_type": "code",
   "execution_count": 20,
   "metadata": {},
   "outputs": [],
   "source": [
    "shape = shape.set_index(result.index)\n",
    "shape = shape.assign(cluster = result[\"cluster\"])"
   ]
  },
  {
   "cell_type": "code",
   "execution_count": 21,
   "metadata": {},
   "outputs": [
    {
     "data": {
      "text/plain": [
       "<AxesSubplot: >"
      ]
     },
     "execution_count": 21,
     "metadata": {},
     "output_type": "execute_result"
    },
    {
     "data": {
      "image/png": "[encoded data removed]",
      "text/plain": [
       "<Figure size 432x288 with 1 Axes>"
      ]
     },
     "metadata": {
      "needs_background": "light"
     },
     "output_type": "display_data"
    }
   ],
   "source": [
    "shape.plot(column = shape[\"cluster\"])"
   ]
  },
  {
   "cell_type": "code",
   "execution_count": 7,
   "metadata": {},
   "outputs": [],
   "source": [
    "import os\n",
    "os.chdir(\"/home/og309/drought-with-gedi/notebooks/exploratory/\")"
   ]
  },
  {
   "cell_type": "code",
   "execution_count": null,
   "metadata": {},
   "outputs": [],
   "source": [
    "# Classify with time series next"
   ]
  },
  {
   "cell_type": "code",
   "execution_count": null,
   "metadata": {},
   "outputs": [],
   "source": []
  }
 ],
 "metadata": {
  "kernelspec": {
   "display_name": "Python 3",
   "language": "python",
   "name": "python3"
  },
  "language_info": {
   "codemirror_mode": {
    "name": "ipython",
    "version": 3
   },
   "file_extension": ".py",
   "mimetype": "text/x-python",
   "name": "python",
   "nbconvert_exporter": "python",
   "pygments_lexer": "ipython3",
   "version": "3.10.6"
  },
  "orig_nbformat": 4,
  "vscode": {
   "interpreter": {
    "hash": "31f2aee4e71d21fbe5cf8b01ff0e069b9275f58929596ceb00d14d90e3e16cd6"
   }
  }
 },
 "nbformat": 4,
 "nbformat_minor": 2
}
