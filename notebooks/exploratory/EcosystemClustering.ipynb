{
 "cells": [
  {
   "cell_type": "code",
   "execution_count": 10,
   "metadata": {},
   "outputs": [],
   "source": [
    "from drought.data.pipeline import *\n",
    "from sklearn.cluster import KMeans\n",
    "from shapely import Polygon\n",
    "import pickle\n",
    "import numpy as np"
   ]
  },
  {
   "attachments": {},
   "cell_type": "markdown",
   "metadata": {},
   "source": [
    "<b> Initial Clustering Attempt Using PAI and Climatic Data </b>\n",
    "\n",
    "Ignore this for now - we discussed it last week"
   ]
  },
  {
   "cell_type": "code",
   "execution_count": 6,
   "metadata": {},
   "outputs": [],
   "source": [
    "shape = get_gpd_polygons()"
   ]
  },
  {
   "cell_type": "code",
   "execution_count": 9,
   "metadata": {},
   "outputs": [
    {
     "data": {
      "text/html": [
       "<div>\n",
       "<style scoped>\n",
       "    .dataframe tbody tr th:only-of-type {\n",
       "        vertical-align: middle;\n",
       "    }\n",
       "\n",
       "    .dataframe tbody tr th {\n",
       "        vertical-align: top;\n",
       "    }\n",
       "\n",
       "    .dataframe thead th {\n",
       "        text-align: right;\n",
       "    }\n",
       "</style>\n",
       "<table border=\"1\" class=\"dataframe\">\n",
       "  <thead>\n",
       "    <tr style=\"text-align: right;\">\n",
       "      <th></th>\n",
       "      <th>month</th>\n",
       "      <th>year</th>\n",
       "      <th>pai</th>\n",
       "      <th>precipitation</th>\n",
       "      <th>temperature</th>\n",
       "      <th>radiation</th>\n",
       "    </tr>\n",
       "    <tr>\n",
       "      <th>polygon_id</th>\n",
       "      <th></th>\n",
       "      <th></th>\n",
       "      <th></th>\n",
       "      <th></th>\n",
       "      <th></th>\n",
       "      <th></th>\n",
       "    </tr>\n",
       "  </thead>\n",
       "  <tbody>\n",
       "    <tr>\n",
       "      <th>1</th>\n",
       "      <td>6.342857</td>\n",
       "      <td>2020.314286</td>\n",
       "      <td>3.555716</td>\n",
       "      <td>293.765893</td>\n",
       "      <td>28.775501</td>\n",
       "      <td>1.395512e+07</td>\n",
       "    </tr>\n",
       "    <tr>\n",
       "      <th>2</th>\n",
       "      <td>6.394737</td>\n",
       "      <td>2020.342105</td>\n",
       "      <td>3.313128</td>\n",
       "      <td>263.506760</td>\n",
       "      <td>28.734562</td>\n",
       "      <td>1.420633e+07</td>\n",
       "    </tr>\n",
       "    <tr>\n",
       "      <th>3</th>\n",
       "      <td>6.096774</td>\n",
       "      <td>2020.354839</td>\n",
       "      <td>3.266357</td>\n",
       "      <td>251.702826</td>\n",
       "      <td>28.469306</td>\n",
       "      <td>1.392554e+07</td>\n",
       "    </tr>\n",
       "    <tr>\n",
       "      <th>4</th>\n",
       "      <td>6.384615</td>\n",
       "      <td>2020.384615</td>\n",
       "      <td>3.504819</td>\n",
       "      <td>235.860376</td>\n",
       "      <td>27.832612</td>\n",
       "      <td>1.484121e+07</td>\n",
       "    </tr>\n",
       "    <tr>\n",
       "      <th>5</th>\n",
       "      <td>6.384615</td>\n",
       "      <td>2020.384615</td>\n",
       "      <td>3.001037</td>\n",
       "      <td>172.098428</td>\n",
       "      <td>28.273038</td>\n",
       "      <td>1.589685e+07</td>\n",
       "    </tr>\n",
       "    <tr>\n",
       "      <th>6</th>\n",
       "      <td>6.384615</td>\n",
       "      <td>2020.384615</td>\n",
       "      <td>0.779162</td>\n",
       "      <td>116.032661</td>\n",
       "      <td>32.536969</td>\n",
       "      <td>1.703984e+07</td>\n",
       "    </tr>\n",
       "    <tr>\n",
       "      <th>7</th>\n",
       "      <td>6.384615</td>\n",
       "      <td>2020.384615</td>\n",
       "      <td>0.463933</td>\n",
       "      <td>68.682771</td>\n",
       "      <td>33.269556</td>\n",
       "      <td>1.771369e+07</td>\n",
       "    </tr>\n",
       "    <tr>\n",
       "      <th>8</th>\n",
       "      <td>6.384615</td>\n",
       "      <td>2020.384615</td>\n",
       "      <td>0.986440</td>\n",
       "      <td>64.882448</td>\n",
       "      <td>29.343542</td>\n",
       "      <td>1.502093e+07</td>\n",
       "    </tr>\n",
       "  </tbody>\n",
       "</table>\n",
       "</div>"
      ],
      "text/plain": [
       "               month         year       pai  precipitation  temperature  \\\n",
       "polygon_id                                                                \n",
       "1           6.342857  2020.314286  3.555716     293.765893    28.775501   \n",
       "2           6.394737  2020.342105  3.313128     263.506760    28.734562   \n",
       "3           6.096774  2020.354839  3.266357     251.702826    28.469306   \n",
       "4           6.384615  2020.384615  3.504819     235.860376    27.832612   \n",
       "5           6.384615  2020.384615  3.001037     172.098428    28.273038   \n",
       "6           6.384615  2020.384615  0.779162     116.032661    32.536969   \n",
       "7           6.384615  2020.384615  0.463933      68.682771    33.269556   \n",
       "8           6.384615  2020.384615  0.986440      64.882448    29.343542   \n",
       "\n",
       "               radiation  \n",
       "polygon_id                \n",
       "1           1.395512e+07  \n",
       "2           1.420633e+07  \n",
       "3           1.392554e+07  \n",
       "4           1.484121e+07  \n",
       "5           1.589685e+07  \n",
       "6           1.703984e+07  \n",
       "7           1.771369e+07  \n",
       "8           1.502093e+07  "
      ]
     },
     "execution_count": 9,
     "metadata": {},
     "output_type": "execute_result"
    }
   ],
   "source": [
    "monthly = get_monthly_means_per_polygon()\n",
    "cluster_input = monthly.groupby([\"polygon_id\"]).mean()\n",
    "cluster_input"
   ]
  },
  {
   "cell_type": "code",
   "execution_count": 194,
   "metadata": {},
   "outputs": [],
   "source": [
    "def ecosystem_clustering(df, feature_cols):\n",
    "    km = KMeans(n_clusters=2)\n",
    "    km.fit(df[feature_cols])\n",
    "    output = df.assign(cluster=km.predict(df[feature_cols]))\n",
    "\n",
    "    return output"
   ]
  },
  {
   "cell_type": "code",
   "execution_count": 19,
   "metadata": {},
   "outputs": [
    {
     "name": "stderr",
     "output_type": "stream",
     "text": [
      "/home/og309/.local/lib/python3.10/site-packages/sklearn/cluster/_kmeans.py:870: FutureWarning: The default value of `n_init` will change from 10 to 'auto' in 1.4. Set the value of `n_init` explicitly to suppress the warning\n",
      "  warnings.warn(\n"
     ]
    },
    {
     "data": {
      "text/html": [
       "<div>\n",
       "<style scoped>\n",
       "    .dataframe tbody tr th:only-of-type {\n",
       "        vertical-align: middle;\n",
       "    }\n",
       "\n",
       "    .dataframe tbody tr th {\n",
       "        vertical-align: top;\n",
       "    }\n",
       "\n",
       "    .dataframe thead th {\n",
       "        text-align: right;\n",
       "    }\n",
       "</style>\n",
       "<table border=\"1\" class=\"dataframe\">\n",
       "  <thead>\n",
       "    <tr style=\"text-align: right;\">\n",
       "      <th></th>\n",
       "      <th>month</th>\n",
       "      <th>year</th>\n",
       "      <th>pai</th>\n",
       "      <th>precipitation</th>\n",
       "      <th>temperature</th>\n",
       "      <th>radiation</th>\n",
       "      <th>cluster</th>\n",
       "    </tr>\n",
       "    <tr>\n",
       "      <th>polygon_id</th>\n",
       "      <th></th>\n",
       "      <th></th>\n",
       "      <th></th>\n",
       "      <th></th>\n",
       "      <th></th>\n",
       "      <th></th>\n",
       "      <th></th>\n",
       "    </tr>\n",
       "  </thead>\n",
       "  <tbody>\n",
       "    <tr>\n",
       "      <th>1</th>\n",
       "      <td>6.342857</td>\n",
       "      <td>2020.314286</td>\n",
       "      <td>3.555716</td>\n",
       "      <td>293.765893</td>\n",
       "      <td>28.775501</td>\n",
       "      <td>1.395512e+07</td>\n",
       "      <td>0</td>\n",
       "    </tr>\n",
       "    <tr>\n",
       "      <th>2</th>\n",
       "      <td>6.394737</td>\n",
       "      <td>2020.342105</td>\n",
       "      <td>3.313128</td>\n",
       "      <td>263.506760</td>\n",
       "      <td>28.734562</td>\n",
       "      <td>1.420633e+07</td>\n",
       "      <td>0</td>\n",
       "    </tr>\n",
       "    <tr>\n",
       "      <th>3</th>\n",
       "      <td>6.096774</td>\n",
       "      <td>2020.354839</td>\n",
       "      <td>3.266357</td>\n",
       "      <td>251.702826</td>\n",
       "      <td>28.469306</td>\n",
       "      <td>1.392554e+07</td>\n",
       "      <td>0</td>\n",
       "    </tr>\n",
       "    <tr>\n",
       "      <th>4</th>\n",
       "      <td>6.384615</td>\n",
       "      <td>2020.384615</td>\n",
       "      <td>3.504819</td>\n",
       "      <td>235.860376</td>\n",
       "      <td>27.832612</td>\n",
       "      <td>1.484121e+07</td>\n",
       "      <td>2</td>\n",
       "    </tr>\n",
       "    <tr>\n",
       "      <th>5</th>\n",
       "      <td>6.384615</td>\n",
       "      <td>2020.384615</td>\n",
       "      <td>3.001037</td>\n",
       "      <td>172.098428</td>\n",
       "      <td>28.273038</td>\n",
       "      <td>1.589685e+07</td>\n",
       "      <td>3</td>\n",
       "    </tr>\n",
       "    <tr>\n",
       "      <th>6</th>\n",
       "      <td>6.384615</td>\n",
       "      <td>2020.384615</td>\n",
       "      <td>0.779162</td>\n",
       "      <td>116.032661</td>\n",
       "      <td>32.536969</td>\n",
       "      <td>1.703984e+07</td>\n",
       "      <td>1</td>\n",
       "    </tr>\n",
       "    <tr>\n",
       "      <th>7</th>\n",
       "      <td>6.384615</td>\n",
       "      <td>2020.384615</td>\n",
       "      <td>0.463933</td>\n",
       "      <td>68.682771</td>\n",
       "      <td>33.269556</td>\n",
       "      <td>1.771369e+07</td>\n",
       "      <td>1</td>\n",
       "    </tr>\n",
       "    <tr>\n",
       "      <th>8</th>\n",
       "      <td>6.384615</td>\n",
       "      <td>2020.384615</td>\n",
       "      <td>0.986440</td>\n",
       "      <td>64.882448</td>\n",
       "      <td>29.343542</td>\n",
       "      <td>1.502093e+07</td>\n",
       "      <td>2</td>\n",
       "    </tr>\n",
       "  </tbody>\n",
       "</table>\n",
       "</div>"
      ],
      "text/plain": [
       "               month         year       pai  precipitation  temperature  \\\n",
       "polygon_id                                                                \n",
       "1           6.342857  2020.314286  3.555716     293.765893    28.775501   \n",
       "2           6.394737  2020.342105  3.313128     263.506760    28.734562   \n",
       "3           6.096774  2020.354839  3.266357     251.702826    28.469306   \n",
       "4           6.384615  2020.384615  3.504819     235.860376    27.832612   \n",
       "5           6.384615  2020.384615  3.001037     172.098428    28.273038   \n",
       "6           6.384615  2020.384615  0.779162     116.032661    32.536969   \n",
       "7           6.384615  2020.384615  0.463933      68.682771    33.269556   \n",
       "8           6.384615  2020.384615  0.986440      64.882448    29.343542   \n",
       "\n",
       "               radiation  cluster  \n",
       "polygon_id                         \n",
       "1           1.395512e+07        0  \n",
       "2           1.420633e+07        0  \n",
       "3           1.392554e+07        0  \n",
       "4           1.484121e+07        2  \n",
       "5           1.589685e+07        3  \n",
       "6           1.703984e+07        1  \n",
       "7           1.771369e+07        1  \n",
       "8           1.502093e+07        2  "
      ]
     },
     "execution_count": 19,
     "metadata": {},
     "output_type": "execute_result"
    }
   ],
   "source": [
    "result = ecosystem_clustering(cluster_input, [\"temperature\", \"precipitation\", \"radiation\", \"pai\"])\n",
    "result"
   ]
  },
  {
   "cell_type": "code",
   "execution_count": 20,
   "metadata": {},
   "outputs": [],
   "source": [
    "shape = shape.set_index(result.index)\n",
    "shape = shape.assign(cluster = result[\"cluster\"])"
   ]
  },
  {
   "cell_type": "code",
   "execution_count": 21,
   "metadata": {},
   "outputs": [
    {
     "data": {
      "text/plain": [
       "<AxesSubplot: >"
      ]
     },
     "execution_count": 21,
     "metadata": {},
     "output_type": "execute_result"
    },
    {
     "data": {
      "image/png": "[encoded data removed]",
      "text/plain": [
       "<Figure size 432x288 with 1 Axes>"
      ]
     },
     "metadata": {
      "needs_background": "light"
     },
     "output_type": "display_data"
    }
   ],
   "source": [
    "shape.plot(column = shape[\"cluster\"])"
   ]
  },
  {
   "attachments": {},
   "cell_type": "markdown",
   "metadata": {},
   "source": [
    "<h1> Rasterisation! </h1>\n",
    "\n",
    "<b> Import GEDI Footprints </b>"
   ]
  },
  {
   "cell_type": "code",
   "execution_count": 7,
   "metadata": {},
   "outputs": [],
   "source": [
    "gedi_csv = get_gedi_footprints()"
   ]
  },
  {
   "cell_type": "code",
   "execution_count": 8,
   "metadata": {},
   "outputs": [
    {
     "data": {
      "text/html": [
       "<div>\n",
       "<style scoped>\n",
       "    .dataframe tbody tr th:only-of-type {\n",
       "        vertical-align: middle;\n",
       "    }\n",
       "\n",
       "    .dataframe tbody tr th {\n",
       "        vertical-align: top;\n",
       "    }\n",
       "\n",
       "    .dataframe thead th {\n",
       "        text-align: right;\n",
       "    }\n",
       "</style>\n",
       "<table border=\"1\" class=\"dataframe\">\n",
       "  <thead>\n",
       "    <tr style=\"text-align: right;\">\n",
       "      <th></th>\n",
       "      <th>pai</th>\n",
       "      <th>l2b_quality_flag</th>\n",
       "      <th>shot_number</th>\n",
       "      <th>lon_lowestmode</th>\n",
       "      <th>lat_lowestmode</th>\n",
       "      <th>geometry</th>\n",
       "      <th>year</th>\n",
       "      <th>month</th>\n",
       "      <th>polygon_id</th>\n",
       "      <th>polygon_spei</th>\n",
       "    </tr>\n",
       "  </thead>\n",
       "  <tbody>\n",
       "    <tr>\n",
       "      <th>90</th>\n",
       "      <td>3.270860</td>\n",
       "      <td>1</td>\n",
       "      <td>20420500100053124</td>\n",
       "      <td>-73.012176</td>\n",
       "      <td>-2.148434</td>\n",
       "      <td>POINT (-73.01217550938594 -2.148433601199582)</td>\n",
       "      <td>2019</td>\n",
       "      <td>4</td>\n",
       "      <td>1</td>\n",
       "      <td>Y</td>\n",
       "    </tr>\n",
       "    <tr>\n",
       "      <th>92</th>\n",
       "      <td>0.226100</td>\n",
       "      <td>1</td>\n",
       "      <td>20420500100053126</td>\n",
       "      <td>-73.011580</td>\n",
       "      <td>-2.147593</td>\n",
       "      <td>POINT (-73.01158014712219 -2.147592765811703)</td>\n",
       "      <td>2019</td>\n",
       "      <td>4</td>\n",
       "      <td>1</td>\n",
       "      <td>Y</td>\n",
       "    </tr>\n",
       "    <tr>\n",
       "      <th>104</th>\n",
       "      <td>0.796234</td>\n",
       "      <td>1</td>\n",
       "      <td>20420500100053090</td>\n",
       "      <td>-73.022286</td>\n",
       "      <td>-2.162795</td>\n",
       "      <td>POINT (-73.02228628616268 -2.162794720210879)</td>\n",
       "      <td>2019</td>\n",
       "      <td>4</td>\n",
       "      <td>1</td>\n",
       "      <td>Y</td>\n",
       "    </tr>\n",
       "    <tr>\n",
       "      <th>111</th>\n",
       "      <td>1.732929</td>\n",
       "      <td>1</td>\n",
       "      <td>21490600100274710</td>\n",
       "      <td>-72.754148</td>\n",
       "      <td>-1.163992</td>\n",
       "      <td>POINT (-72.7541482465911 -1.1639923700881025)</td>\n",
       "      <td>2019</td>\n",
       "      <td>4</td>\n",
       "      <td>1</td>\n",
       "      <td>Y</td>\n",
       "    </tr>\n",
       "    <tr>\n",
       "      <th>112</th>\n",
       "      <td>1.270815</td>\n",
       "      <td>1</td>\n",
       "      <td>21490600100274708</td>\n",
       "      <td>-72.754743</td>\n",
       "      <td>-1.164835</td>\n",
       "      <td>POINT (-72.75474328953197 -1.1648345603875192)</td>\n",
       "      <td>2019</td>\n",
       "      <td>4</td>\n",
       "      <td>1</td>\n",
       "      <td>Y</td>\n",
       "    </tr>\n",
       "    <tr>\n",
       "      <th>...</th>\n",
       "      <td>...</td>\n",
       "      <td>...</td>\n",
       "      <td>...</td>\n",
       "      <td>...</td>\n",
       "      <td>...</td>\n",
       "      <td>...</td>\n",
       "      <td>...</td>\n",
       "      <td>...</td>\n",
       "      <td>...</td>\n",
       "      <td>...</td>\n",
       "    </tr>\n",
       "    <tr>\n",
       "      <th>21569</th>\n",
       "      <td>4.859155</td>\n",
       "      <td>1</td>\n",
       "      <td>197430800400540965</td>\n",
       "      <td>-40.901799</td>\n",
       "      <td>-16.097564</td>\n",
       "      <td>POINT (-40.901798503505084 -16.09756415167545)</td>\n",
       "      <td>2022</td>\n",
       "      <td>6</td>\n",
       "      <td>8</td>\n",
       "      <td>N</td>\n",
       "    </tr>\n",
       "    <tr>\n",
       "      <th>21570</th>\n",
       "      <td>2.089660</td>\n",
       "      <td>1</td>\n",
       "      <td>197430800400540966</td>\n",
       "      <td>-40.901472</td>\n",
       "      <td>-16.097975</td>\n",
       "      <td>POINT (-40.90147238514139 -16.09797536938862)</td>\n",
       "      <td>2022</td>\n",
       "      <td>6</td>\n",
       "      <td>8</td>\n",
       "      <td>N</td>\n",
       "    </tr>\n",
       "    <tr>\n",
       "      <th>21571</th>\n",
       "      <td>2.213748</td>\n",
       "      <td>1</td>\n",
       "      <td>197430800400540967</td>\n",
       "      <td>-40.901166</td>\n",
       "      <td>-16.098368</td>\n",
       "      <td>POINT (-40.90116615300125 -16.098367597271835)</td>\n",
       "      <td>2022</td>\n",
       "      <td>6</td>\n",
       "      <td>8</td>\n",
       "      <td>N</td>\n",
       "    </tr>\n",
       "    <tr>\n",
       "      <th>21572</th>\n",
       "      <td>0.108898</td>\n",
       "      <td>1</td>\n",
       "      <td>197430800400540968</td>\n",
       "      <td>-40.900845</td>\n",
       "      <td>-16.098774</td>\n",
       "      <td>POINT (-40.90084514219941 -16.098773842809226)</td>\n",
       "      <td>2022</td>\n",
       "      <td>6</td>\n",
       "      <td>8</td>\n",
       "      <td>N</td>\n",
       "    </tr>\n",
       "    <tr>\n",
       "      <th>21573</th>\n",
       "      <td>6.527487</td>\n",
       "      <td>1</td>\n",
       "      <td>197430800400540969</td>\n",
       "      <td>-40.900522</td>\n",
       "      <td>-16.099182</td>\n",
       "      <td>POINT (-40.90052178290862 -16.099182269227057)</td>\n",
       "      <td>2022</td>\n",
       "      <td>6</td>\n",
       "      <td>8</td>\n",
       "      <td>N</td>\n",
       "    </tr>\n",
       "  </tbody>\n",
       "</table>\n",
       "<p>16396816 rows × 10 columns</p>\n",
       "</div>"
      ],
      "text/plain": [
       "            pai  l2b_quality_flag         shot_number  lon_lowestmode  \\\n",
       "90     3.270860                 1   20420500100053124      -73.012176   \n",
       "92     0.226100                 1   20420500100053126      -73.011580   \n",
       "104    0.796234                 1   20420500100053090      -73.022286   \n",
       "111    1.732929                 1   21490600100274710      -72.754148   \n",
       "112    1.270815                 1   21490600100274708      -72.754743   \n",
       "...         ...               ...                 ...             ...   \n",
       "21569  4.859155                 1  197430800400540965      -40.901799   \n",
       "21570  2.089660                 1  197430800400540966      -40.901472   \n",
       "21571  2.213748                 1  197430800400540967      -40.901166   \n",
       "21572  0.108898                 1  197430800400540968      -40.900845   \n",
       "21573  6.527487                 1  197430800400540969      -40.900522   \n",
       "\n",
       "       lat_lowestmode                                        geometry  year  \\\n",
       "90          -2.148434   POINT (-73.01217550938594 -2.148433601199582)  2019   \n",
       "92          -2.147593   POINT (-73.01158014712219 -2.147592765811703)  2019   \n",
       "104         -2.162795   POINT (-73.02228628616268 -2.162794720210879)  2019   \n",
       "111         -1.163992   POINT (-72.7541482465911 -1.1639923700881025)  2019   \n",
       "112         -1.164835  POINT (-72.75474328953197 -1.1648345603875192)  2019   \n",
       "...               ...                                             ...   ...   \n",
       "21569      -16.097564  POINT (-40.901798503505084 -16.09756415167545)  2022   \n",
       "21570      -16.097975   POINT (-40.90147238514139 -16.09797536938862)  2022   \n",
       "21571      -16.098368  POINT (-40.90116615300125 -16.098367597271835)  2022   \n",
       "21572      -16.098774  POINT (-40.90084514219941 -16.098773842809226)  2022   \n",
       "21573      -16.099182  POINT (-40.90052178290862 -16.099182269227057)  2022   \n",
       "\n",
       "       month  polygon_id polygon_spei  \n",
       "90         4           1            Y  \n",
       "92         4           1            Y  \n",
       "104        4           1            Y  \n",
       "111        4           1            Y  \n",
       "112        4           1            Y  \n",
       "...      ...         ...          ...  \n",
       "21569      6           8            N  \n",
       "21570      6           8            N  \n",
       "21571      6           8            N  \n",
       "21572      6           8            N  \n",
       "21573      6           8            N  \n",
       "\n",
       "[16396816 rows x 10 columns]"
      ]
     },
     "execution_count": 8,
     "metadata": {},
     "output_type": "execute_result"
    }
   ],
   "source": [
    "gedi_csv = gedi_csv[gedi_csv[\"pai\"] > -9000]\n",
    "gedi_csv"
   ]
  },
  {
   "cell_type": "code",
   "execution_count": 35,
   "metadata": {},
   "outputs": [
    {
     "data": {
      "text/html": [
       "<div>\n",
       "<style scoped>\n",
       "    .dataframe tbody tr th:only-of-type {\n",
       "        vertical-align: middle;\n",
       "    }\n",
       "\n",
       "    .dataframe tbody tr th {\n",
       "        vertical-align: top;\n",
       "    }\n",
       "\n",
       "    .dataframe thead th {\n",
       "        text-align: right;\n",
       "    }\n",
       "</style>\n",
       "<table border=\"1\" class=\"dataframe\">\n",
       "  <thead>\n",
       "    <tr style=\"text-align: right;\">\n",
       "      <th></th>\n",
       "      <th>minx</th>\n",
       "      <th>miny</th>\n",
       "      <th>maxx</th>\n",
       "      <th>maxy</th>\n",
       "    </tr>\n",
       "  </thead>\n",
       "  <tbody>\n",
       "    <tr>\n",
       "      <th>0</th>\n",
       "      <td>-74.416441</td>\n",
       "      <td>-2.412584</td>\n",
       "      <td>-72.602802</td>\n",
       "      <td>-0.605941</td>\n",
       "    </tr>\n",
       "    <tr>\n",
       "      <th>1</th>\n",
       "      <td>-68.035983</td>\n",
       "      <td>-1.306142</td>\n",
       "      <td>-66.197392</td>\n",
       "      <td>0.584974</td>\n",
       "    </tr>\n",
       "    <tr>\n",
       "      <th>2</th>\n",
       "      <td>-62.180343</td>\n",
       "      <td>-3.150466</td>\n",
       "      <td>-60.383712</td>\n",
       "      <td>-1.355298</td>\n",
       "    </tr>\n",
       "    <tr>\n",
       "      <th>3</th>\n",
       "      <td>-57.209042</td>\n",
       "      <td>-1.094028</td>\n",
       "      <td>-55.412411</td>\n",
       "      <td>0.702519</td>\n",
       "    </tr>\n",
       "    <tr>\n",
       "      <th>4</th>\n",
       "      <td>-54.088527</td>\n",
       "      <td>-9.368769</td>\n",
       "      <td>-52.291897</td>\n",
       "      <td>-7.591857</td>\n",
       "    </tr>\n",
       "    <tr>\n",
       "      <th>5</th>\n",
       "      <td>-48.750560</td>\n",
       "      <td>-13.786351</td>\n",
       "      <td>-46.953929</td>\n",
       "      <td>-12.035216</td>\n",
       "    </tr>\n",
       "    <tr>\n",
       "      <th>6</th>\n",
       "      <td>-45.257066</td>\n",
       "      <td>-12.098650</td>\n",
       "      <td>-43.460435</td>\n",
       "      <td>-10.336418</td>\n",
       "    </tr>\n",
       "    <tr>\n",
       "      <th>7</th>\n",
       "      <td>-42.170125</td>\n",
       "      <td>-17.343441</td>\n",
       "      <td>-40.373495</td>\n",
       "      <td>-15.620713</td>\n",
       "    </tr>\n",
       "  </tbody>\n",
       "</table>\n",
       "</div>"
      ],
      "text/plain": [
       "        minx       miny       maxx       maxy\n",
       "0 -74.416441  -2.412584 -72.602802  -0.605941\n",
       "1 -68.035983  -1.306142 -66.197392   0.584974\n",
       "2 -62.180343  -3.150466 -60.383712  -1.355298\n",
       "3 -57.209042  -1.094028 -55.412411   0.702519\n",
       "4 -54.088527  -9.368769 -52.291897  -7.591857\n",
       "5 -48.750560 -13.786351 -46.953929 -12.035216\n",
       "6 -45.257066 -12.098650 -43.460435 -10.336418\n",
       "7 -42.170125 -17.343441 -40.373495 -15.620713"
      ]
     },
     "execution_count": 35,
     "metadata": {},
     "output_type": "execute_result"
    }
   ],
   "source": [
    "shape.geometry.bounds"
   ]
  },
  {
   "attachments": {},
   "cell_type": "markdown",
   "metadata": {},
   "source": [
    "<b> Create Rasterized Grid with Footprints Matched to Cells</b>\n",
    "\n",
    "rasterise_polygon generates a r x r grid (as a 2D list) and then assigns every footprint to the appropriate cell. The end result is a 2D list of DataFrames. Interestingly higher resolution grids are generated faster, since the individual dataframes for each cell are smaller and pd.concat becomes slower with larger dataframe sizes."
   ]
  },
  {
   "cell_type": "code",
   "execution_count": 53,
   "metadata": {},
   "outputs": [],
   "source": [
    "def rasterise_polygon(r, df, shape, polygon):\n",
    "\n",
    "    df = df[df[\"polygon_id\"] == polygon]\n",
    "    geometry = shape.geometry[polygon - 1]\n",
    "\n",
    "    grid = [[pd.DataFrame()]*r for i in range(r)]\n",
    "\n",
    "    minx, miny, maxx, maxy = geometry.bounds\n",
    "    stepx = (maxx - minx) / r\n",
    "    stepy = (maxy - miny) / r\n",
    "\n",
    "    for i in range(len(df)):\n",
    "        footprint = df.iloc[[i]]\n",
    "        lon = footprint[\"lon_lowestmode\"]\n",
    "        lat = footprint[\"lat_lowestmode\"]\n",
    "        x = floor((lon - minx) / stepx) \n",
    "        y = floor((maxy - lat) / stepy)\n",
    "        grid[y][x] = pd.concat([grid[y][x], footprint])\n",
    "        if (i%100000==0):\n",
    "            print(i)\n",
    "\n",
    "    return grid"
   ]
  },
  {
   "cell_type": "code",
   "execution_count": 135,
   "metadata": {},
   "outputs": [
    {
     "name": "stdout",
     "output_type": "stream",
     "text": [
      "0\n",
      "100000\n",
      "200000\n",
      "300000\n",
      "400000\n",
      "500000\n",
      "600000\n",
      "700000\n",
      "800000\n",
      "900000\n",
      "1000000\n",
      "1100000\n",
      "1200000\n",
      "1300000\n",
      "1400000\n"
     ]
    }
   ],
   "source": [
    "grid_10 = rasterise_polygon(10, gedi_csv, shape, 1)"
   ]
  },
  {
   "attachments": {},
   "cell_type": "markdown",
   "metadata": {},
   "source": [
    "<b> Create Shapely Polygons for Each Grid Cell </b>\n",
    "\n",
    "Encodes geospatial information for every cell for convenient plotting."
   ]
  },
  {
   "cell_type": "code",
   "execution_count": 13,
   "metadata": {},
   "outputs": [],
   "source": [
    "def grid_cells(r, shape, polygon):\n",
    "\n",
    "    geometry = shape.geometry[polygon - 1]\n",
    "    \n",
    "    minx, miny, maxx, maxy = geometry.bounds\n",
    "    stepx = (maxx - minx) / r\n",
    "    stepy = (maxy - miny) / r\n",
    "\n",
    "    curx = minx\n",
    "    cury = maxy\n",
    "\n",
    "    cells = []\n",
    "\n",
    "    for y in range(r):\n",
    "        for x in range(r):\n",
    "            cell = Polygon([(curx, cury), (curx + stepx, cury), (curx + stepx, cury - stepy), (curx, cury - stepy)])\n",
    "            cells.append(cell)\n",
    "            curx += stepx\n",
    "        cury -= stepy\n",
    "        curx = minx\n",
    "\n",
    "    cells = gpd.GeoDataFrame(cells, columns = [\"geometry\"])\n",
    "    \n",
    "    return cells"
   ]
  },
  {
   "cell_type": "code",
   "execution_count": 136,
   "metadata": {},
   "outputs": [],
   "source": [
    "cells = grid_cells(10, shape, 1)"
   ]
  },
  {
   "attachments": {},
   "cell_type": "markdown",
   "metadata": {},
   "source": [
    "<b> Plot Means of Selected Variable </b>\n",
    "\n",
    "Combines spatial information from grid_cells with footprints from rasterise_polygon to plot means by cell of a given variable."
   ]
  },
  {
   "cell_type": "code",
   "execution_count": 12,
   "metadata": {},
   "outputs": [],
   "source": [
    "def plot_raster(r, grid, cells, var):\n",
    "\n",
    "    means = []\n",
    "\n",
    "    for y in range(r):\n",
    "        for x in range(r):\n",
    "            means.append(grid[y][x][var].mean())\n",
    "\n",
    "    cells[var] = means\n",
    "\n",
    "    cells.plot(column = var, cmap = \"Greens\")"
   ]
  },
  {
   "cell_type": "code",
   "execution_count": 138,
   "metadata": {},
   "outputs": [
    {
     "data": {
      "image/png": "[encoded data removed]",
      "text/plain": [
       "<Figure size 432x288 with 1 Axes>"
      ]
     },
     "metadata": {
      "needs_background": "light"
     },
     "output_type": "display_data"
    }
   ],
   "source": [
    "plot_raster(10, grid_10, cells, \"pai\")"
   ]
  },
  {
   "attachments": {},
   "cell_type": "markdown",
   "metadata": {},
   "source": [
    "This is just getting 10 x 10 rasterised grids of all the other polygons."
   ]
  },
  {
   "cell_type": "code",
   "execution_count": 141,
   "metadata": {},
   "outputs": [
    {
     "name": "stdout",
     "output_type": "stream",
     "text": [
      "0\n",
      "100000\n",
      "200000\n",
      "300000\n",
      "400000\n",
      "500000\n",
      "600000\n",
      "700000\n",
      "800000\n",
      "900000\n",
      "1000000\n",
      "1100000\n",
      "1200000\n",
      "1300000\n",
      "0\n",
      "100000\n",
      "200000\n",
      "300000\n",
      "400000\n",
      "500000\n",
      "600000\n",
      "700000\n",
      "800000\n",
      "900000\n",
      "1000000\n",
      "1100000\n"
     ]
    }
   ],
   "source": [
    "grid_10_p1 = grid_10\n",
    "grid_10_p2 = rasterise_polygon(10, gedi_csv, shape, 2)\n",
    "grid_10_p3 = rasterise_polygon(10, gedi_csv, shape, 3)"
   ]
  },
  {
   "cell_type": "code",
   "execution_count": 145,
   "metadata": {},
   "outputs": [
    {
     "name": "stdout",
     "output_type": "stream",
     "text": [
      "0\n",
      "100000\n",
      "200000\n",
      "300000\n",
      "400000\n",
      "500000\n",
      "600000\n",
      "700000\n",
      "800000\n",
      "900000\n",
      "1000000\n",
      "1100000\n",
      "1200000\n",
      "1300000\n",
      "1400000\n",
      "1500000\n",
      "1600000\n",
      "1700000\n",
      "0\n",
      "100000\n",
      "200000\n",
      "300000\n",
      "400000\n",
      "500000\n",
      "600000\n",
      "700000\n",
      "800000\n",
      "900000\n",
      "1000000\n",
      "1100000\n",
      "1200000\n",
      "1300000\n",
      "1400000\n",
      "1500000\n",
      "1600000\n",
      "1700000\n",
      "1800000\n",
      "1900000\n",
      "2000000\n",
      "2100000\n",
      "2200000\n",
      "2300000\n",
      "0\n",
      "100000\n",
      "200000\n",
      "300000\n",
      "400000\n",
      "500000\n",
      "600000\n",
      "700000\n",
      "800000\n",
      "900000\n",
      "1000000\n",
      "1100000\n",
      "1200000\n",
      "1300000\n",
      "1400000\n",
      "1500000\n",
      "1600000\n",
      "1700000\n",
      "1800000\n",
      "1900000\n",
      "2000000\n",
      "2100000\n",
      "2200000\n",
      "2300000\n",
      "2400000\n",
      "2500000\n",
      "2600000\n",
      "2700000\n",
      "2800000\n",
      "2900000\n",
      "3000000\n",
      "0\n",
      "100000\n",
      "200000\n",
      "300000\n",
      "400000\n",
      "500000\n",
      "600000\n",
      "700000\n",
      "800000\n",
      "900000\n",
      "1000000\n",
      "1100000\n",
      "1200000\n",
      "1300000\n",
      "1400000\n",
      "1500000\n",
      "1600000\n",
      "1700000\n",
      "1800000\n",
      "1900000\n",
      "2000000\n",
      "2100000\n",
      "2200000\n",
      "2300000\n",
      "2400000\n",
      "2500000\n",
      "2600000\n",
      "2700000\n",
      "2800000\n",
      "2900000\n",
      "3000000\n",
      "3100000\n",
      "0\n",
      "100000\n",
      "200000\n",
      "300000\n",
      "400000\n",
      "500000\n",
      "600000\n",
      "700000\n",
      "800000\n",
      "900000\n",
      "1000000\n",
      "1100000\n",
      "1200000\n",
      "1300000\n",
      "1400000\n",
      "1500000\n",
      "1600000\n",
      "1700000\n",
      "1800000\n",
      "1900000\n",
      "2000000\n",
      "2100000\n"
     ]
    }
   ],
   "source": [
    "grid_10_p4 = rasterise_polygon(10, gedi_csv, shape, 4)\n",
    "grid_10_p5 = rasterise_polygon(10, gedi_csv, shape, 5)\n",
    "grid_10_p6 = rasterise_polygon(10, gedi_csv, shape, 6)\n",
    "grid_10_p7 = rasterise_polygon(10, gedi_csv, shape, 7)\n",
    "grid_10_p8 = rasterise_polygon(10, gedi_csv, shape, 8)"
   ]
  },
  {
   "attachments": {},
   "cell_type": "markdown",
   "metadata": {},
   "source": [
    "Noticed that P1 and P3 still have -9999 PAI values - might be worth dealing with this in the database itself"
   ]
  },
  {
   "cell_type": "code",
   "execution_count": 157,
   "metadata": {},
   "outputs": [],
   "source": [
    "for i in range(10):\n",
    "    for j in range(10):\n",
    "        grid_10_p1[i][j] = grid_10_p1[i][j][grid_10_p1][i][j][\"pai\"] > -9000]\n",
    "\n",
    "for i in range(10):\n",
    "    for j in range(10):\n",
    "        grid_10_p3[i][j] = grid_10_p3[i][j][grid_10_p3][i][j][\"pai\"] > -9000]"
   ]
  },
  {
   "attachments": {},
   "cell_type": "markdown",
   "metadata": {},
   "source": [
    "<b> Saving 10 x 10 Grids (very inefficiently) </b>"
   ]
  },
  {
   "cell_type": "code",
   "execution_count": 165,
   "metadata": {},
   "outputs": [],
   "source": [
    "grid_10_all = []"
   ]
  },
  {
   "cell_type": "code",
   "execution_count": 167,
   "metadata": {},
   "outputs": [],
   "source": [
    "grid_10_all.append(grid_10_p1)\n",
    "grid_10_all.append(grid_10_p2)\n",
    "grid_10_all.append(grid_10_p3)\n",
    "grid_10_all.append(grid_10_p4)\n",
    "grid_10_all.append(grid_10_p5)\n",
    "grid_10_all.append(grid_10_p6)\n",
    "grid_10_all.append(grid_10_p7)\n",
    "grid_10_all.append(grid_10_p8)"
   ]
  },
  {
   "cell_type": "code",
   "execution_count": 180,
   "metadata": {},
   "outputs": [],
   "source": [
    "with open(\"/maps-priv/maps/drought-with-gedi/gedi_data/grid_10\", \"wb\") as fp:\n",
    "    pickle.dump(grid_10_all, fp)\n",
    "    fp.close()"
   ]
  },
  {
   "cell_type": "code",
   "execution_count": 11,
   "metadata": {},
   "outputs": [],
   "source": [
    "with open(\"/maps-priv/maps/drought-with-gedi/gedi_data/grid_10\", \"rb\") as fp:\n",
    "    grid_10 = pickle.load(fp)"
   ]
  },
  {
   "attachments": {},
   "cell_type": "markdown",
   "metadata": {},
   "source": [
    "<b> Plotting All Polygons at Once and Clustering </b>"
   ]
  },
  {
   "cell_type": "code",
   "execution_count": 192,
   "metadata": {},
   "outputs": [],
   "source": [
    "def plot_raster_all(r, grid, shape, var):\n",
    "\n",
    "    cells = pd.DataFrame()\n",
    "\n",
    "    for polygon in range(1,9):\n",
    "        cells = pd.concat([cells, grid_cells(r, shape, polygon)])\n",
    "\n",
    "    means = []\n",
    "\n",
    "    for i in range(8):\n",
    "        for y in range(r):\n",
    "            for x in range(r):\n",
    "                means.append(grid[i][y][x][var].mean())\n",
    "\n",
    "    cells[var] = means\n",
    "\n",
    "    cells.plot(column = var, cmap = \"Greens\")"
   ]
  },
  {
   "cell_type": "code",
   "execution_count": 193,
   "metadata": {},
   "outputs": [
    {
     "data": {
      "image/png": "[encoded data removed]",
      "text/plain": [
       "<Figure size 432x288 with 1 Axes>"
      ]
     },
     "metadata": {
      "needs_background": "light"
     },
     "output_type": "display_data"
    }
   ],
   "source": [
    "plot_raster_all(10,grid_10,shape,\"pai\")"
   ]
  },
  {
   "cell_type": "code",
   "execution_count": 223,
   "metadata": {},
   "outputs": [],
   "source": [
    "def cluster_all(r, grid, shape, var):\n",
    "\n",
    "    cells = pd.DataFrame()\n",
    "\n",
    "    for polygon in range(1,9):\n",
    "        cells = pd.concat([cells, grid_cells(r, shape, polygon)])\n",
    "\n",
    "    means = []\n",
    "\n",
    "    for i in range(8):\n",
    "        for y in range(r):\n",
    "            for x in range(r):\n",
    "                means.append(grid[i][y][x][var].mean())\n",
    "\n",
    "    cells[var] = means\n",
    "\n",
    "    cells = ecosystem_clustering(cells,[var])\n",
    "\n",
    "    cells.plot(column = \"cluster\", legend = True)\n",
    "\n",
    "    return cells.groupby(\"cluster\").mean()"
   ]
  },
  {
   "cell_type": "code",
   "execution_count": 224,
   "metadata": {},
   "outputs": [
    {
     "name": "stderr",
     "output_type": "stream",
     "text": [
      "/home/og309/.local/lib/python3.10/site-packages/sklearn/cluster/_kmeans.py:870: FutureWarning: The default value of `n_init` will change from 10 to 'auto' in 1.4. Set the value of `n_init` explicitly to suppress the warning\n",
      "  warnings.warn(\n",
      "/tmp/ipykernel_266543/399232658.py:21: FutureWarning: The default value of numeric_only in DataFrameGroupBy.mean is deprecated. In a future version, numeric_only will default to False. Either specify numeric_only or select only columns which should be valid for the function.\n",
      "  return cells.groupby(\"cluster\").mean()\n"
     ]
    },
    {
     "data": {
      "text/html": [
       "<div>\n",
       "<style scoped>\n",
       "    .dataframe tbody tr th:only-of-type {\n",
       "        vertical-align: middle;\n",
       "    }\n",
       "\n",
       "    .dataframe tbody tr th {\n",
       "        vertical-align: top;\n",
       "    }\n",
       "\n",
       "    .dataframe thead th {\n",
       "        text-align: right;\n",
       "    }\n",
       "</style>\n",
       "<table border=\"1\" class=\"dataframe\">\n",
       "  <thead>\n",
       "    <tr style=\"text-align: right;\">\n",
       "      <th></th>\n",
       "      <th>pai</th>\n",
       "    </tr>\n",
       "    <tr>\n",
       "      <th>cluster</th>\n",
       "      <th></th>\n",
       "    </tr>\n",
       "  </thead>\n",
       "  <tbody>\n",
       "    <tr>\n",
       "      <th>0</th>\n",
       "      <td>3.654263</td>\n",
       "    </tr>\n",
       "    <tr>\n",
       "      <th>1</th>\n",
       "      <td>0.710367</td>\n",
       "    </tr>\n",
       "    <tr>\n",
       "      <th>2</th>\n",
       "      <td>3.026651</td>\n",
       "    </tr>\n",
       "  </tbody>\n",
       "</table>\n",
       "</div>"
      ],
      "text/plain": [
       "              pai\n",
       "cluster          \n",
       "0        3.654263\n",
       "1        0.710367\n",
       "2        3.026651"
      ]
     },
     "execution_count": 224,
     "metadata": {},
     "output_type": "execute_result"
    },
    {
     "data": {
      "image/png": "[encoded data removed]",
      "text/plain": [
       "<Figure size 432x288 with 2 Axes>"
      ]
     },
     "metadata": {
      "needs_background": "light"
     },
     "output_type": "display_data"
    }
   ],
   "source": [
    "cluster_all(10,grid_10,shape,\"pai\")"
   ]
  },
  {
   "cell_type": "code",
   "execution_count": 226,
   "metadata": {},
   "outputs": [
    {
     "data": {
      "text/plain": [
       "<AxesSubplot: title={'center': 'pai'}, xlabel='polygon_id'>"
      ]
     },
     "execution_count": 226,
     "metadata": {},
     "output_type": "execute_result"
    },
    {
     "data": {
      "image/png": "[encoded data removed]",
      "text/plain": [
       "<Figure size 432x288 with 1 Axes>"
      ]
     },
     "metadata": {
      "needs_background": "light"
     },
     "output_type": "display_data"
    }
   ],
   "source": [
    "gedi_csv.boxplot(column=\"pai\",by=\"polygon_id\",showfliers=False)"
   ]
  },
  {
   "cell_type": "code",
   "execution_count": null,
   "metadata": {},
   "outputs": [],
   "source": [
    "# Do boxplots of climatic data\n",
    "# Classify with time series next"
   ]
  },
  {
   "cell_type": "code",
   "execution_count": 54,
   "metadata": {},
   "outputs": [
    {
     "name": "stdout",
     "output_type": "stream",
     "text": [
      "0\n",
      "100000\n",
      "200000\n",
      "300000\n",
      "400000\n",
      "500000\n",
      "600000\n",
      "700000\n",
      "800000\n",
      "900000\n",
      "1000000\n",
      "1100000\n",
      "1200000\n",
      "1300000\n",
      "1400000\n"
     ]
    }
   ],
   "source": [
    "grid_100_p1 = rasterise_polygon(100,gedi_csv,shape,1)"
   ]
  },
  {
   "cell_type": "code",
   "execution_count": 55,
   "metadata": {},
   "outputs": [
    {
     "name": "stdout",
     "output_type": "stream",
     "text": [
      "0\n",
      "100000\n",
      "200000\n",
      "300000\n",
      "400000\n",
      "500000\n",
      "600000\n",
      "700000\n",
      "800000\n",
      "900000\n",
      "1000000\n",
      "1100000\n",
      "1200000\n",
      "1300000\n",
      "1400000\n"
     ]
    }
   ],
   "source": [
    "grid_1000_p1 = rasterise_polygon(1000,gedi_csv,shape,1)"
   ]
  },
  {
   "cell_type": "code",
   "execution_count": 76,
   "metadata": {},
   "outputs": [
    {
     "data": {
      "image/png": "[encoded data removed]",
      "text/plain": [
       "<Figure size 432x288 with 1 Axes>"
      ]
     },
     "metadata": {
      "needs_background": "light"
     },
     "output_type": "display_data"
    }
   ],
   "source": [
    "plot_raster(100, grid_100_p1, cells, \"pai\", pd.DataFrame.mean)"
   ]
  },
  {
   "cell_type": "code",
   "execution_count": 77,
   "metadata": {},
   "outputs": [],
   "source": [
    "cells = grid_cells(1000, shape, 1)"
   ]
  },
  {
   "cell_type": "code",
   "execution_count": 79,
   "metadata": {},
   "outputs": [],
   "source": [
    "for y in range(1000):\n",
    "    for x in range(1000):\n",
    "        if len(grid_1000_p1[y][x]) != 0:\n",
    "            grid_1000_p1[y][x] = grid_1000_p1[y][x][grid_1000_p1[y][x][\"pai\"] > -9000]"
   ]
  },
  {
   "cell_type": "code",
   "execution_count": 80,
   "metadata": {},
   "outputs": [
    {
     "data": {
      "image/png": "[encoded data removed]",
      "text/plain": [
       "<Figure size 432x288 with 1 Axes>"
      ]
     },
     "metadata": {
      "needs_background": "light"
     },
     "output_type": "display_data"
    }
   ],
   "source": [
    "plot_raster(1000, grid_1000_p1, cells, \"pai\", pd.DataFrame.mean)"
   ]
  },
  {
   "attachments": {},
   "cell_type": "markdown",
   "metadata": {},
   "source": [
    "<b> Optimising Performance of Rasterisation </b>"
   ]
  },
  {
   "cell_type": "code",
   "execution_count": 1,
   "metadata": {},
   "outputs": [],
   "source": [
    "def rasterise_polygon(r, df, shape, polygon):\n",
    "\n",
    "    df = df[df[\"polygon_id\"] == polygon]\n",
    "    geometry = shape.geometry[polygon - 1]\n",
    "\n",
    "    minx, miny, maxx, maxy = geometry.bounds\n",
    "    stepx = (maxx - minx) / r\n",
    "    stepy = (maxy - miny) / r\n",
    "\n",
    "    df['x'] = ((df['lon_lowestmode'] - minx) / stepx).apply(np.floor)\n",
    "    df['y'] = ((maxy - df['lat_lowestmode']) / stepy).apply(np.floor)\n",
    "\n",
    "    return df"
   ]
  },
  {
   "cell_type": "code",
   "execution_count": 12,
   "metadata": {},
   "outputs": [
    {
     "name": "stderr",
     "output_type": "stream",
     "text": [
      "/tmp/ipykernel_3528150/2766178951.py:10: SettingWithCopyWarning: \n",
      "A value is trying to be set on a copy of a slice from a DataFrame.\n",
      "Try using .loc[row_indexer,col_indexer] = value instead\n",
      "\n",
      "See the caveats in the documentation: https://pandas.pydata.org/pandas-docs/stable/user_guide/indexing.html#returning-a-view-versus-a-copy\n",
      "  df['x'] = ((df['lon_lowestmode'] - minx) / stepx).apply(np.floor)\n",
      "/tmp/ipykernel_3528150/2766178951.py:11: SettingWithCopyWarning: \n",
      "A value is trying to be set on a copy of a slice from a DataFrame.\n",
      "Try using .loc[row_indexer,col_indexer] = value instead\n",
      "\n",
      "See the caveats in the documentation: https://pandas.pydata.org/pandas-docs/stable/user_guide/indexing.html#returning-a-view-versus-a-copy\n",
      "  df['y'] = ((maxy - df['lat_lowestmode']) / stepy).apply(np.floor)\n"
     ]
    }
   ],
   "source": [
    "test = rasterise_polygon(10,gedi_csv,shape,1)"
   ]
  },
  {
   "cell_type": "code",
   "execution_count": 13,
   "metadata": {},
   "outputs": [],
   "source": [
    "def calculate_grid_geometry(df, r, shape, polygon, columns_to_keep):\n",
    "    '''\n",
    "        Given a Pandas.DataFrame with x and y columns, replace those with the\n",
    "        appropriate geometry column.\n",
    "    \n",
    "    '''\n",
    "    geometry = shape.geometry[polygon - 1]\n",
    "\n",
    "    minx, miny, maxx, maxy = geometry.bounds\n",
    "    stepx = (maxx - minx) / r\n",
    "    stepy = (maxy - miny) / r\n",
    "\n",
    "    def calc_geometry(row):\n",
    "        curx = minx + row['x'] * stepx\n",
    "        cury = maxy - row['y'] * stepy\n",
    "        return Polygon([(curx, cury), (curx + stepx, cury), (curx + stepx, cury - stepy), (curx, cury - stepy)])\n",
    "    \n",
    "    df['geometry'] = df.apply(calc_geometry, axis=1)\n",
    "    df = df.drop(columns=['x', 'y'])\n",
    "\n",
    "    geo_df = gpd.GeoDataFrame(df, columns = [\"geometry\", *columns_to_keep])\n",
    "    return geo_df"
   ]
  },
  {
   "cell_type": "code",
   "execution_count": 34,
   "metadata": {},
   "outputs": [],
   "source": [
    "def raster_plot(df, r, shape, polygon, var):\n",
    "\n",
    "    df = df.groupby(['x', 'y']).mean()[var].reset_index()\n",
    "    geo_df = calculate_grid_geometry(df, r, shape, polygon, [var])\n",
    "\n",
    "    geo_df.plot(column = var, cmap = 'Greens')"
   ]
  },
  {
   "cell_type": "code",
   "execution_count": 35,
   "metadata": {},
   "outputs": [
    {
     "name": "stderr",
     "output_type": "stream",
     "text": [
      "/tmp/ipykernel_3528150/4161984148.py:3: FutureWarning: The default value of numeric_only in DataFrameGroupBy.mean is deprecated. In a future version, numeric_only will default to False. Either specify numeric_only or select only columns which should be valid for the function.\n",
      "  df = df.groupby(['x', 'y']).mean()[var].reset_index()\n"
     ]
    },
    {
     "data": {
      "image/png": "[encoded data removed]",
      "text/plain": [
       "<Figure size 432x288 with 1 Axes>"
      ]
     },
     "metadata": {
      "needs_background": "light"
     },
     "output_type": "display_data"
    }
   ],
   "source": [
    "raster_plot(test, 10, shape, 1, 'pai')"
   ]
  },
  {
   "cell_type": "code",
   "execution_count": 36,
   "metadata": {},
   "outputs": [],
   "source": [
    "from drought.data.rasterisation import *"
   ]
  },
  {
   "cell_type": "code",
   "execution_count": 39,
   "metadata": {},
   "outputs": [
    {
     "name": "stderr",
     "output_type": "stream",
     "text": [
      "/home/og309/drought-with-gedi/drought/data/rasterisation.py:26: SettingWithCopyWarning: \n",
      "A value is trying to be set on a copy of a slice from a DataFrame.\n",
      "Try using .loc[row_indexer,col_indexer] = value instead\n",
      "\n",
      "See the caveats in the documentation: https://pandas.pydata.org/pandas-docs/stable/user_guide/indexing.html#returning-a-view-versus-a-copy\n",
      "  df['x'] = ((df['lon_lowestmode'] - minx) / stepx).apply(np.floor)\n",
      "/home/og309/drought-with-gedi/drought/data/rasterisation.py:27: SettingWithCopyWarning: \n",
      "A value is trying to be set on a copy of a slice from a DataFrame.\n",
      "Try using .loc[row_indexer,col_indexer] = value instead\n",
      "\n",
      "See the caveats in the documentation: https://pandas.pydata.org/pandas-docs/stable/user_guide/indexing.html#returning-a-view-versus-a-copy\n",
      "  df['y'] = ((maxy - df['lat_lowestmode']) / stepy).apply(np.floor)\n"
     ]
    }
   ],
   "source": [
    "grid = rasterise_polygon(10, gedi_csv, shape, 1)"
   ]
  },
  {
   "cell_type": "code",
   "execution_count": 40,
   "metadata": {},
   "outputs": [
    {
     "name": "stderr",
     "output_type": "stream",
     "text": [
      "/home/og309/drought-with-gedi/drought/data/rasterisation.py:61: FutureWarning: The default value of numeric_only in DataFrameGroupBy.mean is deprecated. In a future version, numeric_only will default to False. Either specify numeric_only or select only columns which should be valid for the function.\n",
      "  df = df.groupby(['x', 'y']).mean()[var].reset_index()\n"
     ]
    },
    {
     "data": {
      "image/png": "[encoded data removed]",
      "text/plain": [
       "<Figure size 432x288 with 1 Axes>"
      ]
     },
     "metadata": {
      "needs_background": "light"
     },
     "output_type": "display_data"
    }
   ],
   "source": [
    "plot_raster(grid, 10, shape, 1, 'pai')"
   ]
  },
  {
   "cell_type": "code",
   "execution_count": null,
   "metadata": {},
   "outputs": [],
   "source": []
  }
 ],
 "metadata": {
  "kernelspec": {
   "display_name": "Python 3",
   "language": "python",
   "name": "python3"
  },
  "language_info": {
   "codemirror_mode": {
    "name": "ipython",
    "version": 3
   },
   "file_extension": ".py",
   "mimetype": "text/x-python",
   "name": "python",
   "nbconvert_exporter": "python",
   "pygments_lexer": "ipython3",
   "version": "3.10.6"
  },
  "orig_nbformat": 4,
  "vscode": {
   "interpreter": {
    "hash": "31f2aee4e71d21fbe5cf8b01ff0e069b9275f58929596ceb00d14d90e3e16cd6"
   }
  }
 },
 "nbformat": 4,
 "nbformat_minor": 2
}
